{
 "cells": [
  {
   "cell_type": "code",
   "execution_count": 1,
   "id": "045317f8",
   "metadata": {},
   "outputs": [],
   "source": [
    "from PIL import Image\n",
    "import random\n",
    "\n",
    "#Open the file\n",
    "picture = Image.open(\"image.jpg\")\n",
    "\n",
    "#Optimize and compress image to above 50% of quality\n",
    "picture.save(\"Compressed_Image\"+\".jpg\",\"JPEG\",optimize=True,quality=50)"
   ]
  },
  {
   "cell_type": "code",
   "execution_count": null,
   "id": "f33bbc0b",
   "metadata": {},
   "outputs": [],
   "source": []
  }
 ],
 "metadata": {
  "kernelspec": {
   "display_name": "Python 3 (ipykernel)",
   "language": "python",
   "name": "python3"
  },
  "language_info": {
   "codemirror_mode": {
    "name": "ipython",
    "version": 3
   },
   "file_extension": ".py",
   "mimetype": "text/x-python",
   "name": "python",
   "nbconvert_exporter": "python",
   "pygments_lexer": "ipython3",
   "version": "3.10.4"
  }
 },
 "nbformat": 4,
 "nbformat_minor": 5
}
